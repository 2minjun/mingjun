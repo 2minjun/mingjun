{
  "nbformat": 4,
  "nbformat_minor": 0,
  "metadata": {
    "colab": {
      "provenance": [],
      "collapsed_sections": [],
      "authorship_tag": "ABX9TyNrITP1OJ2qRToZ3sWw+82J",
      "include_colab_link": true
    },
    "kernelspec": {
      "name": "python3",
      "display_name": "Python 3"
    },
    "language_info": {
      "name": "python"
    }
  },
  "cells": [
    {
      "cell_type": "markdown",
      "metadata": {
        "id": "view-in-github",
        "colab_type": "text"
      },
      "source": [
        "<a href=\"https://colab.research.google.com/github/2minjun/mingjun/blob/main/%EB%85%BC%ED%94%84_%EA%B3%BC%EC%A0%9C_1.ipynb\" target=\"_parent\"><img src=\"https://colab.research.google.com/assets/colab-badge.svg\" alt=\"Open In Colab\"/></a>"
      ]
    },
    {
      "cell_type": "code",
      "execution_count": null,
      "metadata": {
        "colab": {
          "base_uri": "https://localhost:8080/"
        },
        "id": "hCSgnjnYrhpu",
        "outputId": "cb7ae1d5-5b16-4ffd-e011-df96efbb0ec2"
      },
      "outputs": [
        {
          "output_type": "stream",
          "name": "stdout",
          "text": [
            "3\n"
          ]
        }
      ],
      "source": [
        "###202102410 이민준\n",
        "a=1\n",
        "b=2\n",
        "print(a+b)"
      ]
    },
    {
      "cell_type": "code",
      "source": [
        "n=int(input('30이하의 정수를 입력하시오'))\n",
        "\n",
        "if n<30:\n",
        "  for n in range(1,n+1):\n",
        "    for a in range (1,n+1):\n",
        "        print(a,end=\"\")\n",
        "    print()\n",
        "\n",
        "else:\n",
        "      print('숫자가 너무 많습니다')"
      ],
      "metadata": {
        "colab": {
          "base_uri": "https://localhost:8080/"
        },
        "id": "vUoLJHNq5HPa",
        "outputId": "1d611c42-af34-4458-8be5-82f3c8ad1319"
      },
      "execution_count": null,
      "outputs": [
        {
          "output_type": "stream",
          "name": "stdout",
          "text": [
            "30이하의 정수를 입력하시오6\n",
            "1\n",
            "12\n",
            "123\n",
            "1234\n",
            "12345\n",
            "123456\n"
          ]
        }
      ]
    },
    {
      "cell_type": "code",
      "source": [
        "n=input('30이하의 정수를 입력하시오')\n",
        "\n",
        "if not n.isdecimal():\n",
        "   print(\"정수를 입력해주세요\")\n",
        "  \n",
        "\n",
        "else: \n",
        "  n=int(n)\n",
        "  if n<30:  \n",
        "   for n in range(1,n+1):\n",
        "     for a in range (1,n+1):\n",
        "         print(a,end=\"\")\n",
        "     print()\n",
        "  else:\n",
        "     print('숫자가 너무 많습니다')"
      ],
      "metadata": {
        "colab": {
          "base_uri": "https://localhost:8080/"
        },
        "id": "CFFivv1G__TB",
        "outputId": "2de783d1-bb91-49d7-9020-024b76d4a98e"
      },
      "execution_count": null,
      "outputs": [
        {
          "output_type": "stream",
          "name": "stdout",
          "text": [
            "30이하의 정수를 입력하시오아무말\n",
            "정수를 입력해주세요\n"
          ]
        }
      ]
    }
  ]
}